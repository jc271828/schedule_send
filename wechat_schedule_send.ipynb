{
 "cells": [
  {
   "cell_type": "code",
   "execution_count": 1,
   "metadata": {},
   "outputs": [],
   "source": [
    "# Import packages\n",
    "import pyperclip\n",
    "import pyautogui\n",
    "import time\n",
    "from datetime import datetime\n",
    "import os"
   ]
  },
  {
   "cell_type": "code",
   "execution_count": 3,
   "metadata": {},
   "outputs": [],
   "source": [
    "# Change this path to where you have saved contacts_icon.png and search_bar_icon.png\n",
    "icon_dir = os.getcwd()\n",
    "contacts_icon_path = os.path.join(icon_dir, 'contacts_icon.png')\n",
    "search_icon_path = os.path.join(icon_dir, 'search_bar_icon.png')"
   ]
  },
  {
   "cell_type": "code",
   "execution_count": 4,
   "metadata": {},
   "outputs": [],
   "source": [
    "# Change this dir to where you have saved schedule.txt and recipient.txt files\n",
    "schedule_dir = os.getcwd()"
   ]
  },
  {
   "cell_type": "code",
   "execution_count": 128,
   "metadata": {},
   "outputs": [
    {
     "data": {
      "text/plain": [
       "'Make sure you have WeChat pinned on top\\nRecipient name can be WeChat Username, alias or WeChat ID\\nRecipient name in schedule.txt has to match the name of recipient.txt\\ndate,time_ in schedule.txt is in the format of YYYY-MM-DD,HH:MM:SS with HH being in 24 h format\\n'"
      ]
     },
     "execution_count": 128,
     "metadata": {},
     "output_type": "execute_result"
    }
   ],
   "source": [
    "'''Make sure you have WeChat pinned on top\n",
    "Recipient name can ONLY be WeChat ID (Python has trouble dealing with file names containing Chinese or special characters)\n",
    "Recipient name in schedule.txt has to match the name of recipient.txt\n",
    "date,time_ in schedule.txt is in the format of YYYY-MM-DD,HH:MM:SS with HH being in 24 h format\n",
    "'''"
   ]
  },
  {
   "cell_type": "code",
   "execution_count": 129,
   "metadata": {},
   "outputs": [],
   "source": [
    "# Function to locate and click the 'Contacts' icon dynamically.\n",
    "def click_contacts():\n",
    "    # Make sure you have WeChat pinned on top\n",
    "    try:\n",
    "        location = pyautogui.locateOnScreen(contacts_icon_path, confidence=0.8)\n",
    "        if location:\n",
    "            center = pyautogui.center(location)\n",
    "            pyautogui.click(center)  # Click the center of the found icon\n",
    "            print(\"Clicked on 'Contacts' icon.\")\n",
    "        else:\n",
    "            print(\"Error: 'Contacts' icon not found on the screen.\")\n",
    "    except Exception as e:\n",
    "        print(f\"An error occurred: {e}\")\n"
   ]
  },
  {
   "cell_type": "code",
   "execution_count": 130,
   "metadata": {},
   "outputs": [],
   "source": [
    "# Function to locate and click the search bar dynamically.\n",
    "def click_search():\n",
    "    # Make sure you have WeChat pinned on top\n",
    "    try:\n",
    "        location = pyautogui.locateOnScreen(search_icon_path, confidence=0.8)\n",
    "        if location:\n",
    "            center = pyautogui.center(location)\n",
    "            pyautogui.click(center)  # Click the center of the found icon\n",
    "            print(\"Clicked on the search bar\")\n",
    "        else:\n",
    "            print(\"Error: Search bar not found on the screen.\")\n",
    "    except Exception as e:\n",
    "        print(f\"An error occurred: {e}\")"
   ]
  },
  {
   "cell_type": "code",
   "execution_count": 131,
   "metadata": {},
   "outputs": [],
   "source": [
    "# Function to load the schedule from schedule.txt\n",
    "def load_schedule():\n",
    "    schedule = []\n",
    "    schedule_file = os.path.join(schedule_dir, \"schedule.txt\")\n",
    "    \n",
    "    with open(schedule_file, \"r\") as f:\n",
    "        for line in f:\n",
    "            line = line.strip() # strip() removes leading and trailing whitespace\n",
    "            if line:\n",
    "                recipient, date, time_ = line.split(',') # Recipient name can ONLY be WeChat ID\n",
    "                # Read the corresponding message file\n",
    "                message_file = os.path.join(schedule_dir, f\"{recipient}.txt\") # Recipient name can ONLY be WeChat ID\n",
    "                if os.path.exists(message_file):\n",
    "                    with open(message_file, \"r\") as mf:\n",
    "                        message = mf.read().strip() # strip() removes leading and trailing whitespace\n",
    "                    schedule.append({\n",
    "                        'recipient': recipient,\n",
    "                        'message': message,\n",
    "                        'date': date,\n",
    "                        'time': time_\n",
    "                    })\n",
    "                else:\n",
    "                    print(f\"Warning: Message file for {recipient} not found. Skipping.\")\n",
    "    \n",
    "    schedule.sort(key=lambda x: f\"{x['date']} {x['time']}\") # Sort the schedule by date and time\n",
    "    \n",
    "    return schedule\n"
   ]
  },
  {
   "cell_type": "code",
   "execution_count": 132,
   "metadata": {},
   "outputs": [],
   "source": [
    "# Function to pause script execution until the target time\n",
    "def wait_until(target_time):\n",
    "    now = datetime.now()\n",
    "    while now < target_time:\n",
    "        time.sleep(1)\n",
    "        now = datetime.now()\n"
   ]
  },
  {
   "cell_type": "code",
   "execution_count": 133,
   "metadata": {},
   "outputs": [],
   "source": [
    "# Function to open a chat window for the recipient using WeChat's search functionality\n",
    "def open_chat_window(recipient):\n",
    "    # MAKE SURE YOU HAVE WECHAT PINNED ON TOP!!!!\n",
    "    click_contacts() # Click Contacts\n",
    "    time.sleep(0.5)\n",
    "    click_search() # Click on the search bar\n",
    "    pyperclip.copy(recipient) # Copy recipient name\n",
    "    time.sleep(0.5)\n",
    "    pyautogui.hotkey('ctrl', 'v') # Paste recipient name\n",
    "    time.sleep(0.5)\n",
    "    pyautogui.press('enter') # Open the chat window\n"
   ]
  },
  {
   "cell_type": "code",
   "execution_count": 134,
   "metadata": {},
   "outputs": [],
   "source": [
    "# Function to send a specified message in the current chat window.\n",
    "def send_message(message):\n",
    "    pyperclip.copy(message) # Copy the message\n",
    "    time.sleep(0.5)\n",
    "    pyautogui.hotkey('ctrl', 'v') # Paste the message\n",
    "    time.sleep(0.5)\n",
    "    pyautogui.press('enter')  # Send the message\n"
   ]
  },
  {
   "cell_type": "code",
   "execution_count": 135,
   "metadata": {},
   "outputs": [],
   "source": [
    "# Function to schedule messages based on the provided schedule\n",
    "def schedule_messages(schedule):\n",
    "    for task in schedule:\n",
    "        # Parse the scheduled date and time\n",
    "        scheduled_time = datetime.strptime(f\"{task['date']} {task['time']}\", '%Y-%m-%d %H:%M:%S')\n",
    "        \n",
    "        # Wait until the scheduled time\n",
    "        wait_until(scheduled_time)\n",
    "        \n",
    "        # Open the recipient's chat window and send the message\n",
    "        open_chat_window(task['recipient'])\n",
    "        send_message(task['message'])\n",
    "        print(f\"Message sent to {task['recipient']} at {datetime.now()}\")\n"
   ]
  },
  {
   "cell_type": "code",
   "execution_count": null,
   "metadata": {},
   "outputs": [
    {
     "name": "stdout",
     "output_type": "stream",
     "text": [
      "Clicked on 'Contacts' icon.\n",
      "Clicked on the search bar\n",
      "Message sent to jc_112358 at 2024-12-31 18:01:04.963778\n"
     ]
    }
   ],
   "source": [
    "# Run this script\n",
    "if __name__ == '__main__':\n",
    "    schedule = load_schedule()\n",
    "    if schedule:\n",
    "        schedule_messages(schedule)\n",
    "    else:\n",
    "        print(\"No valid schedule found.\")\n"
   ]
  }
 ],
 "metadata": {
  "kernelspec": {
   "display_name": "Python 3",
   "language": "python",
   "name": "python3"
  },
  "language_info": {
   "codemirror_mode": {
    "name": "ipython",
    "version": 3
   },
   "file_extension": ".py",
   "mimetype": "text/x-python",
   "name": "python",
   "nbconvert_exporter": "python",
   "pygments_lexer": "ipython3",
   "version": "3.11.9"
  }
 },
 "nbformat": 4,
 "nbformat_minor": 2
}
